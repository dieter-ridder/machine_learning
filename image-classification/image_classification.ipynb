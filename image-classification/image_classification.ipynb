{
 "cells": [
  {
   "cell_type": "markdown",
   "metadata": {
    "collapsed": true
   },
   "source": [
    "# Image Classification\n",
    "In this project, you'll classify images from the [CIFAR-10 dataset](https://www.cs.toronto.edu/~kriz/cifar.html).  The dataset consists of airplanes, dogs, cats, and other objects. You'll preprocess the images, then train a convolutional neural network on all the samples. The images need to be normalized and the labels need to be one-hot encoded.  You'll get to apply what you learned and build a convolutional, max pooling, dropout, and fully connected layers.  At the end, you'll get to see your neural network's predictions on the sample images.\n",
    "## Get the Data\n",
    "Run the following cell to download the [CIFAR-10 dataset for python](https://www.cs.toronto.edu/~kriz/cifar-10-python.tar.gz)."
   ]
  },
  {
   "cell_type": "code",
   "execution_count": 1,
   "metadata": {
    "collapsed": false
   },
   "outputs": [
    {
     "name": "stdout",
     "output_type": "stream",
     "text": [
      "All files found!\n"
     ]
    }
   ],
   "source": [
    "\"\"\"\n",
    "DON'T MODIFY ANYTHING IN THIS CELL THAT IS BELOW THIS LINE\n",
    "\"\"\"\n",
    "from urllib.request import urlretrieve\n",
    "from os.path import isfile, isdir\n",
    "from tqdm import tqdm\n",
    "import problem_unittests as tests\n",
    "import tarfile\n",
    "\n",
    "cifar10_dataset_folder_path = 'cifar-10-batches-py'\n",
    "\n",
    "class DLProgress(tqdm):\n",
    "    last_block = 0\n",
    "\n",
    "    def hook(self, block_num=1, block_size=1, total_size=None):\n",
    "        self.total = total_size\n",
    "        self.update((block_num - self.last_block) * block_size)\n",
    "        self.last_block = block_num\n",
    "\n",
    "if not isfile('cifar-10-python.tar.gz'):\n",
    "    with DLProgress(unit='B', unit_scale=True, miniters=1, desc='CIFAR-10 Dataset') as pbar:\n",
    "        urlretrieve(\n",
    "            'https://www.cs.toronto.edu/~kriz/cifar-10-python.tar.gz',\n",
    "            'cifar-10-python.tar.gz',\n",
    "            pbar.hook)\n",
    "\n",
    "if not isdir(cifar10_dataset_folder_path):\n",
    "    with tarfile.open('cifar-10-python.tar.gz') as tar:\n",
    "        tar.extractall()\n",
    "        tar.close()\n",
    "\n",
    "\n",
    "tests.test_folder_path(cifar10_dataset_folder_path)"
   ]
  },
  {
   "cell_type": "markdown",
   "metadata": {},
   "source": [
    "## Explore the Data\n",
    "The dataset is broken into batches to prevent your machine from running out of memory.  The CIFAR-10 dataset consists of 5 batches, named `data_batch_1`, `data_batch_2`, etc.. Each batch contains the labels and images that are one of the following:\n",
    "* airplane\n",
    "* automobile\n",
    "* bird\n",
    "* cat\n",
    "* deer\n",
    "* dog\n",
    "* frog\n",
    "* horse\n",
    "* ship\n",
    "* truck\n",
    "\n",
    "Understanding a dataset is part of making predictions on the data.  Play around with the code cell below by changing the `batch_id` and `sample_id`. The `batch_id` is the id for a batch (1-5). The `sample_id` is the id for a image and label pair in the batch.\n",
    "\n",
    "Ask yourself \"What are all possible labels?\", \"What is the range of values for the image data?\", \"Are the labels in order or random?\".  Answers to questions like these will help you preprocess the data and end up with better predictions."
   ]
  },
  {
   "cell_type": "code",
   "execution_count": 2,
   "metadata": {
    "collapsed": false
   },
   "outputs": [
    {
     "name": "stdout",
     "output_type": "stream",
     "text": [
      "--- LABELS---\n",
      "label names: ['airplane', 'automobile', 'bird', 'cat', 'deer', 'dog', 'frog', 'horse', 'ship', 'truck']\n",
      "batch#: 1\n",
      "Label distribution: number: 10000  min: 0 max: 9 mean: 4.4983 std: 2.87224600444\n",
      "Label Counts: {0: 1005, 1: 974, 2: 1032, 3: 1016, 4: 999, 5: 937, 6: 1030, 7: 1001, 8: 1025, 9: 981}\n",
      "batch#: 2\n",
      "Label distribution: number: 10000  min: 0 max: 9 mean: 4.4983 std: 2.86408748295\n",
      "Label Counts: {0: 984, 1: 1007, 2: 1010, 3: 995, 4: 1010, 5: 988, 6: 1008, 7: 1026, 8: 987, 9: 985}\n",
      "batch#: 3\n",
      "Label distribution: number: 10000  min: 0 max: 9 mean: 4.499 std: 2.87795048602\n",
      "Label Counts: {0: 994, 1: 1042, 2: 965, 3: 997, 4: 990, 5: 1029, 6: 978, 7: 1015, 8: 961, 9: 1029}\n",
      "batch#: 4\n",
      "Label distribution: number: 10000  min: 0 max: 9 mean: 4.5024 std: 2.86628579175\n",
      "Label Counts: {0: 1003, 1: 963, 2: 1041, 3: 976, 4: 1004, 5: 1021, 6: 1004, 7: 981, 8: 1024, 9: 983}\n",
      "batch#: 5\n",
      "Label distribution: number: 10000  min: 0 max: 9 mean: 4.502 std: 2.88079780616\n",
      "Label Counts: {0: 1014, 1: 1014, 2: 952, 3: 1016, 4: 997, 5: 1025, 6: 980, 7: 977, 8: 1003, 9: 1022}\n"
     ]
    },
    {
     "data": {
      "image/png": "[encoded data removed]",
      "text/plain": [
       "<matplotlib.figure.Figure at 0x23efb815dd8>"
      ]
     },
     "metadata": {
      "image/png": {
       "height": 250,
       "width": 364
      }
     },
     "output_type": "display_data"
    },
    {
     "name": "stdout",
     "output_type": "stream",
     "text": [
      "Image - Min Value: 1 Max Value: 255\n",
      "Image - Shape: (32, 32, 3)\n"
     ]
    }
   ],
   "source": [
    "%matplotlib inline\n",
    "%config InlineBackend.figure_format = 'retina'\n",
    "\n",
    "import helper\n",
    "import numpy as np\n",
    "import matplotlib.pyplot as plt \n",
    "\n",
    "def dataExplorer(cifar10_dataset_folder_path, batch_id, sample_id):\n",
    "    \"\"\"\n",
    "    Display Stats of the the dataset\n",
    "    \"\"\"\n",
    "    print ('--- LABELS---\\nlabel names:',helper._load_label_names())\n",
    "    batch_ids = list(range(1, 6))\n",
    "\n",
    "    if batch_id not in batch_ids:\n",
    "        print('Batch Id out of Range. Possible Batch Ids: {}'.format(batch_ids))\n",
    "        return None\n",
    "\n",
    "    for b in batch_ids:\n",
    "        print('batch#:', b)\n",
    "        features, labels = helper.load_cfar10_batch(cifar10_dataset_folder_path, b)\n",
    "        print ('Label distribution: number:',len(labels),' min:', np.min(labels), 'max:', np.max(labels), 'mean:', np.mean(labels), 'std:',np.std(labels))\n",
    "        print('Label Counts: {}'.format(dict(zip(*np.unique(labels, return_counts=True)))))\n",
    "\n",
    "    plt.plot(list(range(10000)),labels)\n",
    "    plt.show()\n",
    "\n",
    "    sample_image = features[sample_id]\n",
    "    sample_label = labels[sample_id]\n",
    "    print('Image - Min Value: {} Max Value: {}'.format(sample_image.min(), sample_image.max()))\n",
    "    print('Image - Shape: {}'.format(sample_image.shape))\n",
    "\n",
    "# Explore the dataset\n",
    "batch_id = 1\n",
    "sample_id = 5\n",
    "#helper.display_stats(cifar10_dataset_folder_path, batch_id, sample_id)\n",
    "dataExplorer(cifar10_dataset_folder_path, batch_id, sample_id)"
   ]
  },
  {
   "cell_type": "markdown",
   "metadata": {},
   "source": [
    "### Data Understanding\n",
    "\n",
    "- __Labels and batches__:<br>\n",
    "5 batches,  10 different labels:<br>\n",
    "'airplane', 'automobile', 'bird', 'cat', 'deer', 'dog', 'frog', 'horse', 'ship', 'truck'\n",
    "- __Label distribution__: <br>\n",
    "Mean and std are in the same area for all 5 batches, even if the number of instances of one label differ a bit between the batches. The example plot shows that we have all labels randomly distributes over the batch.<br>\n",
    "\n",
    "- __Images__:\n",
    "Images have the shape (32,32,3), so we have 3 color channels, all with a range from 1 to 255.\n"
   ]
  },
  {
   "cell_type": "markdown",
   "metadata": {},
   "source": [
    "## Implement Preprocess Functions\n",
    "### Normalize\n",
    "In the cell below, implement the `normalize` function to take in image data, `x`, and return it as a normalized Numpy array. The values should be in the range of 0 to 1, inclusive.  The return object should be the same shape as `x`."
   ]
  },
  {
   "cell_type": "code",
   "execution_count": 3,
   "metadata": {
    "collapsed": false
   },
   "outputs": [
    {
     "name": "stdout",
     "output_type": "stream",
     "text": [
      "Tests Passed\n"
     ]
    }
   ],
   "source": [
    "def norm(x):\n",
    "    return (x)/255.0\n",
    "norm=np.vectorize(norm)\n",
    "def normalize(x):\n",
    "    \"\"\"\n",
    "    Normalize a list of sample image data in the range of 0 to 1\n",
    "    : x: List of image data.  The image shape is (32, 32, 3)\n",
    "    : return: Numpy array of normalize data\n",
    "    \"\"\"\n",
    "    # TODO: Implement Function\n",
    "    return norm(x)\n",
    "\n",
    "\n",
    "\"\"\"\n",
    "DON'T MODIFY ANYTHING IN THIS CELL THAT IS BELOW THIS LINE\n",
    "\"\"\"\n",
    "tests.test_normalize(normalize)"
   ]
  },
  {
   "cell_type": "markdown",
   "metadata": {},
   "source": [
    "### One-hot encode\n",
    "Just like the previous code cell, you'll be implementing a function for preprocessing.  This time, you'll implement the `one_hot_encode` function. The input, `x`, are a list of labels.  Implement the function to return the list of labels as One-Hot encoded Numpy array.  The possible values for labels are 0 to 9. The one-hot encoding function should return the same encoding for each value between each call to `one_hot_encode`.  Make sure to save the map of encodings outside the function.\n",
    "\n",
    "**Hint:**\n",
    "\n",
    "Look into LabelBinarizer in the preprocessing module of sklearn."
   ]
  },
  {
   "cell_type": "code",
   "execution_count": 4,
   "metadata": {
    "collapsed": false
   },
   "outputs": [
    {
     "name": "stdout",
     "output_type": "stream",
     "text": [
      "Tests Passed\n"
     ]
    }
   ],
   "source": [
    "from sklearn import preprocessing\n",
    "\n",
    "def one_hot_encode(x):\n",
    "    \"\"\"\n",
    "    One hot encode a list of sample labels. Return a one-hot encoded vector for each label.\n",
    "    : x: List of sample Labels\n",
    "    : return: Numpy array of one-hot encoded labels\n",
    "    \"\"\"\n",
    "    # TODO: Implement Function\n",
    "\n",
    "    classes=list(range(10))\n",
    "    lb = preprocessing.LabelBinarizer()\n",
    "    lb=lb.fit(classes)\n",
    "    result=np.array(lb.transform(x))\n",
    "    return result\n",
    "\n",
    "\n",
    "\"\"\"\n",
    "DON'T MODIFY ANYTHING IN THIS CELL THAT IS BELOW THIS LINE\n",
    "\"\"\"\n",
    "tests.test_one_hot_encode(one_hot_encode)"
   ]
  },
  {
   "cell_type": "markdown",
   "metadata": {},
   "source": [
    "#### Question to the reviewer:\n",
    "Above it is mentioned \"Make sure to save the map of encodings outside the function.\" - what is intended? \n",
    "As the interface does not pass an identifier, i.e. the batchId, I have little option to cache it. <br>\n",
    "Would you mind to explain in detail?"
   ]
  },
  {
   "cell_type": "markdown",
   "metadata": {},
   "source": [
    "### Randomize Data\n",
    "As you saw from exploring the data above, the order of the samples are randomized.  It doesn't hurt to randomize it again, but you don't need to for this dataset."
   ]
  },
  {
   "cell_type": "markdown",
   "metadata": {},
   "source": [
    "## Preprocess all the data and save it\n",
    "Running the code cell below will preprocess all the CIFAR-10 data and save it to file. The code below also uses 10% of the training data for validation."
   ]
  },
  {
   "cell_type": "code",
   "execution_count": 5,
   "metadata": {
    "collapsed": false
   },
   "outputs": [
    {
     "name": "stdout",
     "output_type": "stream",
     "text": [
      "done\n"
     ]
    }
   ],
   "source": [
    "\"\"\"\n",
    "DON'T MODIFY ANYTHING IN THIS CELL\n",
    "\"\"\"\n",
    "# Preprocess Training, Validation, and Testing Data\n",
    "helper.preprocess_and_save_data(cifar10_dataset_folder_path, normalize, one_hot_encode)\n",
    "print('done')"
   ]
  },
  {
   "cell_type": "markdown",
   "metadata": {},
   "source": [
    "# Check Point\n",
    "This is your first checkpoint.  If you ever decide to come back to this notebook or have to restart the notebook, you can start from here.  The preprocessed data has been saved to disk."
   ]
  },
  {
   "cell_type": "code",
   "execution_count": 6,
   "metadata": {
    "collapsed": false
   },
   "outputs": [
    {
     "name": "stdout",
     "output_type": "stream",
     "text": [
      "done\n"
     ]
    }
   ],
   "source": [
    "\"\"\"\n",
    "DON'T MODIFY ANYTHING IN THIS CELL\n",
    "\"\"\"\n",
    "import pickle\n",
    "import problem_unittests as tests\n",
    "import helper\n",
    "\n",
    "# Load the Preprocessed Validation data\n",
    "valid_features, valid_labels = pickle.load(open('preprocess_validation.p', mode='rb'))\n",
    "print('done')"
   ]
  },
  {
   "cell_type": "markdown",
   "metadata": {},
   "source": [
    "## Build the network\n",
    "For the neural network, you'll build each layer into a function.  Most of the code you've seen has been outside of functions. To test your code more thoroughly, we require that you put each layer in a function.  This allows us to give you better feedback and test for simple mistakes using our unittests before you submit your project.\n",
    "\n",
    ">**Note:** If you're finding it hard to dedicate enough time for this course each week, we've provided a small shortcut to this part of the project. In the next couple of problems, you'll have the option to use classes from the [TensorFlow Layers](https://www.tensorflow.org/api_docs/python/tf/layers) or [TensorFlow Layers (contrib)](https://www.tensorflow.org/api_guides/python/contrib.layers) packages to build each layer, except the layers you build in the \"Convolutional and Max Pooling Layer\" section.  TF Layers is similar to Keras's and TFLearn's abstraction to layers, so it's easy to pickup.\n",
    "\n",
    ">However, if you would like to get the most out of this course, try to solve all the problems _without_ using anything from the TF Layers packages. You **can** still use classes from other packages that happen to have the same name as ones you find in TF Layers! For example, instead of using the TF Layers version of the `conv2d` class, [tf.layers.conv2d](https://www.tensorflow.org/api_docs/python/tf/layers/conv2d), you would want to use the TF Neural Network version of `conv2d`, [tf.nn.conv2d](https://www.tensorflow.org/api_docs/python/tf/nn/conv2d). \n",
    "\n",
    "Let's begin!\n",
    "\n",
    "### Input\n",
    "The neural network needs to read the image data, one-hot encoded labels, and dropout keep probability. Implement the following functions\n",
    "* Implement `neural_net_image_input`\n",
    " * Return a [TF Placeholder](https://www.tensorflow.org/api_docs/python/tf/placeholder)\n",
    " * Set the shape using `image_shape` with batch size set to `None`.\n",
    " * Name the TensorFlow placeholder \"x\" using the TensorFlow `name` parameter in the [TF Placeholder](https://www.tensorflow.org/api_docs/python/tf/placeholder).\n",
    "* Implement `neural_net_label_input`\n",
    " * Return a [TF Placeholder](https://www.tensorflow.org/api_docs/python/tf/placeholder)\n",
    " * Set the shape using `n_classes` with batch size set to `None`.\n",
    " * Name the TensorFlow placeholder \"y\" using the TensorFlow `name` parameter in the [TF Placeholder](https://www.tensorflow.org/api_docs/python/tf/placeholder).\n",
    "* Implement `neural_net_keep_prob_input`\n",
    " * Return a [TF Placeholder](https://www.tensorflow.org/api_docs/python/tf/placeholder) for dropout keep probability.\n",
    " * Name the TensorFlow placeholder \"keep_prob\" using the TensorFlow `name` parameter in the [TF Placeholder](https://www.tensorflow.org/api_docs/python/tf/placeholder).\n",
    "\n",
    "These names will be used at the end of the project to load your saved model.\n",
    "\n",
    "Note: `None` for shapes in TensorFlow allow for a dynamic size."
   ]
  },
  {
   "cell_type": "code",
   "execution_count": 7,
   "metadata": {
    "collapsed": false
   },
   "outputs": [
    {
     "name": "stdout",
     "output_type": "stream",
     "text": [
      "Image Input Tests Passed.\n",
      "Label Input Tests Passed.\n",
      "Keep Prob Tests Passed.\n"
     ]
    }
   ],
   "source": [
    "import tensorflow as tf\n",
    "\n",
    "def neural_net_image_input(image_shape):\n",
    "    \"\"\"\n",
    "    Return a Tensor for a batch of image input\n",
    "    : image_shape: Shape of the images\n",
    "    : return: Tensor for image input.\n",
    "    \"\"\"\n",
    "    # TODO: Implement Function\n",
    "    result= tf.placeholder(tf.float32,\\\n",
    "                   shape=(None , #batch_size\\\n",
    "                          image_shape[0], #image_height\\\n",
    "                          image_shape[1], #image_width \\\n",
    "                          image_shape[2]   #num_channels\\\n",
    "                          ),name='x')\n",
    "    ##print (image_shape, result.shape)\n",
    "    return result\n",
    "\n",
    "\n",
    "def neural_net_label_input(n_classes):\n",
    "    \"\"\"\n",
    "    Return a Tensor for a batch of label input\n",
    "    : n_classes: Number of classes\n",
    "    : return: Tensor for label input.\n",
    "    \"\"\"\n",
    "    # TODO: Implement Function\n",
    "    result = tf.placeholder(tf.float32, \\\n",
    "                            shape=(None , #batch_size\\\n",
    "                                   n_classes #number of classes\\\n",
    "                                   ),name='y')\n",
    "    return result\n",
    "\n",
    "\n",
    "def neural_net_keep_prob_input():\n",
    "    \"\"\"\n",
    "    Return a Tensor for keep probability\n",
    "    : return: Tensor for keep probability.\n",
    "    \"\"\"\n",
    "    # TODO: Implement Function\n",
    "    result = tf.placeholder(tf.float32, shape=None, name='keep_prob')\n",
    "    return result\n",
    "\n",
    "\n",
    "\"\"\"\n",
    "DON'T MODIFY ANYTHING IN THIS CELL THAT IS BELOW THIS LINE\n",
    "\"\"\"\n",
    "tf.reset_default_graph()\n",
    "tests.test_nn_image_inputs(neural_net_image_input)\n",
    "tests.test_nn_label_inputs(neural_net_label_input)\n",
    "tests.test_nn_keep_prob_inputs(neural_net_keep_prob_input)"
   ]
  },
  {
   "cell_type": "markdown",
   "metadata": {},
   "source": [
    "### Convolution and Max Pooling Layer\n",
    "Convolution layers have a lot of success with images. For this code cell, you should implement the function `conv2d_maxpool` to apply convolution then max pooling:\n",
    "* Create the weight and bias using `conv_ksize`, `conv_num_outputs` and the shape of `x_tensor`.\n",
    "* Apply a convolution to `x_tensor` using weight and `conv_strides`.\n",
    " * We recommend you use same padding, but you're welcome to use any padding.\n",
    "* Add bias\n",
    "* Add a nonlinear activation to the convolution.\n",
    "* Apply Max Pooling using `pool_ksize` and `pool_strides`.\n",
    " * We recommend you use same padding, but you're welcome to use any padding.\n",
    "\n",
    "**Note:** You **can't** use [TensorFlow Layers](https://www.tensorflow.org/api_docs/python/tf/layers) or [TensorFlow Layers (contrib)](https://www.tensorflow.org/api_guides/python/contrib.layers) for **this** layer, but you can still use TensorFlow's [Neural Network](https://www.tensorflow.org/api_docs/python/tf/nn) package. You may still use the shortcut option for all the **other** layers.\n",
    "\n",
    "** Hint: **\n",
    "\n",
    "When unpacking values as an argument in Python, look into the [unpacking](https://docs.python.org/3/tutorial/controlflow.html#unpacking-argument-lists) operator. "
   ]
  },
  {
   "cell_type": "code",
   "execution_count": 8,
   "metadata": {
    "collapsed": false
   },
   "outputs": [
    {
     "name": "stdout",
     "output_type": "stream",
     "text": [
      "Tests Passed\n"
     ]
    }
   ],
   "source": [
    "paddingConv='SAME'\n",
    "paddingPooling=paddingConv\n",
    "\n",
    "def tupel2Array(a):\n",
    "    return [1,a[0],a[1],1]\n",
    "\n",
    "def conv2d_maxpool(x_tensor, conv_num_outputs, conv_ksize, conv_strides, pool_ksize, pool_strides):\n",
    "    \"\"\"\n",
    "    Apply convolution then max pooling to x_tensor\n",
    "    :param x_tensor: TensorFlow Tensor\n",
    "    :param conv_num_outputs: Number of outputs for the convolutional layer\n",
    "    :param conv_ksize: kernal size 2-D Tuple for the convolutional layer\n",
    "    :param conv_strides: Stride 2-D Tuple for convolution\n",
    "    :param pool_ksize: kernal size 2-D Tuple for pool\n",
    "    :param pool_strides: Stride 2-D Tuple for pool\n",
    "    : return: A tensor that represents convolution and max pooling of x_tensor\n",
    "    \"\"\"\n",
    "    matrixShape=[conv_ksize[0], conv_ksize[1],int(x_tensor.shape[3]),conv_num_outputs]\n",
    "    weights = tf.Variable(tf.truncated_normal(shape=matrixShape, stddev=0.1))\n",
    "    biases = tf.Variable(tf.zeros([conv_num_outputs]))\n",
    "    \n",
    "    y_tensor = tf.nn.conv2d(x_tensor, weights, tupel2Array(conv_strides), padding=paddingConv)\n",
    "    y_tensor = tf.nn.relu(y_tensor + biases)\n",
    "    y_tensor = tf.nn.max_pool(y_tensor, tupel2Array(pool_ksize), tupel2Array(pool_strides), padding=paddingPooling)\n",
    "\n",
    "    \n",
    "    if False:\n",
    "        print ('in :\\n tensor shape:{}\\n conv_ksize: {},conv_strides: {},conv_num_outputs: {} '.format(x_tensor.shape,conv_ksize,conv_strides, conv_num_outputs))\n",
    "        print (' pool_ksize: {}'.format(pool_ksize))\n",
    "        print ('out:\\n tensor shape:{}'.format(y_tensor.shape) )\n",
    "    return y_tensor \n",
    "\n",
    "\n",
    "\"\"\"\n",
    "DON'T MODIFY ANYTHING IN THIS CELL THAT IS BELOW THIS LINE\n",
    "\"\"\"\n",
    "tests.test_con_pool(conv2d_maxpool)"
   ]
  },
  {
   "cell_type": "markdown",
   "metadata": {},
   "source": [
    "#### Question to reviewer:\n",
    "from testing:\n",
    "<pre><code>\n",
    "in :\n",
    " tensor shape:(?, 32, 32, 5)\n",
    " conv_ksize: (2, 2),conv_strides: (4, 4),conv_num_outputs: 10 \n",
    " pool_ksize: (2, 2)\n",
    "out:\n",
    " tensor shape:(?, 4, 4, 10)</code></pre>\n",
    "\n",
    "I'm astonished about the test parametrisation:<br>\n",
    "Image input: 32\\*32<br>\n",
    "patch size for convolution layer: 2\\*2, stride size: 4\\*4:<br>\n",
    "Is this reasonable? this means  - in one dimension:<br>\n",
    "pixel[0,1]: used, pixel[2,3]: ignored, and so on?"
   ]
  },
  {
   "cell_type": "markdown",
   "metadata": {},
   "source": [
    "### Flatten Layer\n",
    "Implement the `flatten` function to change the dimension of `x_tensor` from a 4-D tensor to a 2-D tensor.  The output should be the shape (*Batch Size*, *Flattened Image Size*). Shortcut option: you can use classes from the [TensorFlow Layers](https://www.tensorflow.org/api_docs/python/tf/layers) or [TensorFlow Layers (contrib)](https://www.tensorflow.org/api_guides/python/contrib.layers) packages for this layer. For more of a challenge, only use other TensorFlow packages."
   ]
  },
  {
   "cell_type": "code",
   "execution_count": 9,
   "metadata": {
    "collapsed": false
   },
   "outputs": [
    {
     "name": "stdout",
     "output_type": "stream",
     "text": [
      "Tests Passed\n"
     ]
    }
   ],
   "source": [
    "def flatten(x_tensor):\n",
    "    \"\"\"\n",
    "    Flatten x_tensor to (Batch Size, Flattened Image Size)\n",
    "    : x_tensor: A tensor of size (Batch Size, ...), where ... are the image dimensions.\n",
    "    : return: A tensor of size (Batch Size, Flattened Image Size).\n",
    "    \"\"\"\n",
    "    shape = x_tensor.get_shape().as_list()\n",
    "    y_tensor = tf.reshape(x_tensor,[-1, shape[1]*shape[2]*shape[3]])\n",
    "\n",
    "    return y_tensor\n",
    "\n",
    "\n",
    "\"\"\"\n",
    "DON'T MODIFY ANYTHING IN THIS CELL THAT IS BELOW THIS LINE\n",
    "\"\"\"\n",
    "tests.test_flatten(flatten)"
   ]
  },
  {
   "cell_type": "markdown",
   "metadata": {},
   "source": [
    "### Fully-Connected Layer\n",
    "Implement the `fully_conn` function to apply a fully connected layer to `x_tensor` with the shape (*Batch Size*, *num_outputs*). Shortcut option: you can use classes from the [TensorFlow Layers](https://www.tensorflow.org/api_docs/python/tf/layers) or [TensorFlow Layers (contrib)](https://www.tensorflow.org/api_guides/python/contrib.layers) packages for this layer. For more of a challenge, only use other TensorFlow packages."
   ]
  },
  {
   "cell_type": "code",
   "execution_count": 10,
   "metadata": {
    "collapsed": false
   },
   "outputs": [
    {
     "name": "stdout",
     "output_type": "stream",
     "text": [
      "Tests Passed\n"
     ]
    }
   ],
   "source": [
    "def fully_conn(x_tensor, num_outputs):\n",
    "    \"\"\"\n",
    "    Apply a fully connected layer to x_tensor using weight and bias\n",
    "    : x_tensor: A 2-D tensor where the first dimension is batch size.\n",
    "    : num_outputs: The number of output that the new tensor should be.\n",
    "    : return: A 2-D tensor where the second dimension is num_outputs.\n",
    "    \"\"\"\n",
    "    shape = x_tensor.get_shape().as_list()\n",
    "    weights = tf.Variable(tf.truncated_normal([shape[1], num_outputs], stddev=0.1))\n",
    "    biases = tf.Variable(tf.constant(1.0, shape=[num_outputs]))\n",
    "    \n",
    "    y_tensor = tf.nn.relu(tf.matmul(x_tensor, weights) + biases)\n",
    "    \n",
    "    return y_tensor\n",
    "\n",
    "\n",
    "\"\"\"\n",
    "DON'T MODIFY ANYTHING IN THIS CELL THAT IS BELOW THIS LINE\n",
    "\"\"\"\n",
    "tests.test_fully_conn(fully_conn)"
   ]
  },
  {
   "cell_type": "markdown",
   "metadata": {},
   "source": [
    "### Output Layer\n",
    "Implement the `output` function to apply a fully connected layer to `x_tensor` with the shape (*Batch Size*, *num_outputs*). Shortcut option: you can use classes from the [TensorFlow Layers](https://www.tensorflow.org/api_docs/python/tf/layers) or [TensorFlow Layers (contrib)](https://www.tensorflow.org/api_guides/python/contrib.layers) packages for this layer. For more of a challenge, only use other TensorFlow packages.\n",
    "\n",
    "**Note:** Activation, softmax, or cross entropy should **not** be applied to this."
   ]
  },
  {
   "cell_type": "code",
   "execution_count": 11,
   "metadata": {
    "collapsed": false
   },
   "outputs": [
    {
     "name": "stdout",
     "output_type": "stream",
     "text": [
      "Tests Passed\n"
     ]
    }
   ],
   "source": [
    "def output(x_tensor, num_outputs):\n",
    "    \"\"\"\n",
    "    Apply a output layer to x_tensor using weight and bias\n",
    "    : x_tensor: A 2-D tensor where the first dimension is batch size.\n",
    "    : num_outputs: The number of output that the new tensor should be.\n",
    "    : return: A 2-D tensor where the second dimension is num_outputs.\n",
    "    \"\"\"\n",
    "    shape = x_tensor.get_shape().as_list()\n",
    "    weights = tf.Variable(tf.truncated_normal([shape[1], num_outputs], stddev=0.1))\n",
    "    biases = tf.Variable(tf.constant(1.0, shape=[num_outputs]))\n",
    "    \n",
    "    # before review: y_tensor = tf.nn.relu(tf.matmul(x_tensor, weights) + biases)\n",
    "    y_tensor = tf.matmul(x_tensor, weights) + biases\n",
    "    return y_tensor\n",
    "\n",
    "\n",
    "\"\"\"\n",
    "DON'T MODIFY ANYTHING IN THIS CELL THAT IS BELOW THIS LINE\n",
    "\"\"\"\n",
    "tests.test_output(output)"
   ]
  },
  {
   "cell_type": "markdown",
   "metadata": {},
   "source": [
    "### Create Convolutional Model\n",
    "Implement the function `conv_net` to create a convolutional neural network model. The function takes in a batch of images, `x`, and outputs logits.  Use the layers you created above to create this model:\n",
    "\n",
    "* Apply 1, 2, or 3 Convolution and Max Pool layers\n",
    "* Apply a Flatten Layer\n",
    "* Apply 1, 2, or 3 Fully Connected Layers\n",
    "* Apply an Output Layer\n",
    "* Return the output\n",
    "* Apply [TensorFlow's Dropout](https://www.tensorflow.org/api_docs/python/tf/nn/dropout) to one or more layers in the model using `keep_prob`. "
   ]
  },
  {
   "cell_type": "code",
   "execution_count": 113,
   "metadata": {
    "collapsed": false
   },
   "outputs": [
    {
     "name": "stdout",
     "output_type": "stream",
     "text": [
      "Neural Network Built!\n"
     ]
    }
   ],
   "source": [
    "def conv_net(x, keep_prob):\n",
    "    \"\"\"\n",
    "    Create a convolutional neural network model\n",
    "    : x: Placeholder tensor that holds image data.\n",
    "    : keep_prob: Placeholder tensor that hold dropout keep probability.\n",
    "    : return: Tensor that represents logits\n",
    "    \"\"\"\n",
    "    # TODO: Apply 1, 2, or 3 Convolution and Max Pool layers\n",
    "    #    Play around with different number of outputs, kernel size and stride\n",
    "    # Function Definition from Above:\n",
    "    #    conv2d_maxpool(x_tensor, conv_num_outputs, conv_ksize, conv_strides, pool_ksize, pool_strides)\n",
    "    # convolution\n",
    "    # Layer 1: convolution: patch: 5*5, stride: 2*2, dropout: n/a for the moment=> result(-1, 16*16*16)\n",
    "    # Layer 2: convolution: patch: 5*5, stride: 2*2, dropout: n/a for the moment=> result(-1, 8*8*16)\n",
    "    # Layer 3: convolution: patch: 5*5, stride: 2*2, dropout: n/a for the moment=> result(-1, 4*4*16)\n",
    "    outp_conv= conv2d_maxpool(x, 16, (3,3), (1,1), (1,1), (1,1))\n",
    "    outp_conv= conv2d_maxpool(outp_conv, 16, (3,3), (1,1), (2,2), (2,2))\n",
    "    outp_conv= conv2d_maxpool(outp_conv, 16, (3,3), (1,1), (1,1), (1,1))\n",
    "    outp_conv= conv2d_maxpool(outp_conv, 16, (5,5), (1,1), (2,2), (2,2))\n",
    "   \n",
    "    ##print ('shape: conv_3: ', outp_conv.shape)\n",
    "\n",
    "\n",
    "    # TODO: Apply a Flatten Layer\n",
    "    # Function Definition from Above:\n",
    "    #   flatten(x_tensor)\n",
    "    outp_flatten=flatten(outp_conv)\n",
    "    outp_flatten = tf.nn.dropout(outp_flatten, keep_prob)\n",
    "    ##print ('shape: flatten: ', outp_flatten.shape)\n",
    "    \n",
    "\n",
    "    # TODO: Apply 1, 2, or 3 Fully Connected Layers\n",
    "    #    Play around with different number of outputs\n",
    "    # Function Definition from Above:\n",
    "    #   fully_conn(x_tensor, num_outputs)\n",
    "    outp_fully = fully_conn(outp_flatten, 64)\n",
    "    outp_fully = fully_conn(outp_fully, 64)\n",
    "    outp_fully = fully_conn(outp_fully, 64)\n",
    "    ## print ('shape: fully 3: ', outp_fully.shape)\n",
    "    \n",
    "    \n",
    "    # TODO: Apply an Output Layer\n",
    "    #    Set this to the number of classes\n",
    "    # Function Definition from Above:\n",
    "    #   output(x_tensor, num_outputs)\n",
    "    result= output(outp_fully, 10)\n",
    "    \n",
    "    \n",
    "    # TODO: return output\n",
    "    return result\n",
    "\n",
    "\n",
    "\"\"\"\n",
    "DON'T MODIFY ANYTHING IN THIS CELL THAT IS BELOW THIS LINE\n",
    "\"\"\"\n",
    "\n",
    "##############################\n",
    "## Build the Neural Network ##\n",
    "##############################\n",
    "\n",
    "# Remove previous weights, bias, inputs, etc..\n",
    "tf.reset_default_graph()\n",
    "\n",
    "# Inputs\n",
    "x = neural_net_image_input((32, 32, 3))\n",
    "y = neural_net_label_input(10)\n",
    "keep_prob = neural_net_keep_prob_input()\n",
    "\n",
    "# Model\n",
    "logits = conv_net(x, keep_prob)\n",
    "\n",
    "# Name logits Tensor, so that is can be loaded from disk after training\n",
    "logits = tf.identity(logits, name='logits')\n",
    "\n",
    "# Loss and Optimizer\n",
    "cost = tf.reduce_mean(tf.nn.softmax_cross_entropy_with_logits(logits=logits, labels=y))\n",
    "optimizer = tf.train.AdamOptimizer().minimize(cost)\n",
    "\n",
    "# Accuracy\n",
    "correct_pred = tf.equal(tf.argmax(logits, 1), tf.argmax(y, 1))\n",
    "accuracy = tf.reduce_mean(tf.cast(correct_pred, tf.float32), name='accuracy')\n",
    "\n",
    "tests.test_conv_net(conv_net)"
   ]
  },
  {
   "cell_type": "markdown",
   "metadata": {},
   "source": [
    "## Train the Neural Network\n",
    "### Single Optimization\n",
    "Implement the function `train_neural_network` to do a single optimization.  The optimization should use `optimizer` to optimize in `session` with a `feed_dict` of the following:\n",
    "* `x` for image input\n",
    "* `y` for labels\n",
    "* `keep_prob` for keep probability for dropout\n",
    "\n",
    "This function will be called for each batch, so `tf.global_variables_initializer()` has already been called.\n",
    "\n",
    "Note: Nothing needs to be returned. This function is only optimizing the neural network."
   ]
  },
  {
   "cell_type": "code",
   "execution_count": 109,
   "metadata": {
    "collapsed": false
   },
   "outputs": [
    {
     "name": "stdout",
     "output_type": "stream",
     "text": [
      "Tests Passed\n"
     ]
    }
   ],
   "source": [
    "def train_neural_network(session, optimizer, keep_probability, feature_batch, label_batch):\n",
    "    \"\"\"\n",
    "    Optimize the session on a batch of images and labels\n",
    "    : session: Current TensorFlow session\n",
    "    : optimizer: TensorFlow optimizer function\n",
    "    : keep_probability: keep probability\n",
    "    : feature_batch: Batch of Numpy image data\n",
    "    : label_batch: Batch of Numpy label data\n",
    "    \"\"\"\n",
    "    # TODO: Implement Function\n",
    "    image_shape=feature_batch.shape[1:4]\n",
    "    plcHolder_images = neural_net_image_input(image_shape)\n",
    "    plcHolder_labels = neural_net_label_input(10)\n",
    "    feed_dict = {x : feature_batch, y : label_batch, keep_prob:keep_probability}\n",
    "    #_, cost2, predictions = session.run(\n",
    "    result = session.run(\n",
    "      [optimizer, cost, correct_pred], feed_dict=feed_dict)\n",
    "\n",
    "\n",
    "\"\"\"\n",
    "DON'T MODIFY ANYTHING IN THIS CELL THAT IS BELOW THIS LINE\n",
    "\"\"\"\n",
    "tests.test_train_nn(train_neural_network)"
   ]
  },
  {
   "cell_type": "markdown",
   "metadata": {},
   "source": [
    "### Show Stats\n",
    "Implement the function `print_stats` to print loss and validation accuracy.  Use the global variables `valid_features` and `valid_labels` to calculate validation accuracy.  Use a keep probability of `1.0` to calculate the loss and validation accuracy."
   ]
  },
  {
   "cell_type": "code",
   "execution_count": 110,
   "metadata": {
    "collapsed": false
   },
   "outputs": [],
   "source": [
    "def print_stats(session, feature_batch, label_batch, cost, accuracy):\n",
    "    \"\"\"\n",
    "    Print information about loss and validation accuracy\n",
    "    : session: Current TensorFlow session\n",
    "    : feature_batch: Batch of Numpy image data\n",
    "    : label_batch: Batch of Numpy label data\n",
    "    : cost: TensorFlow cost function\n",
    "    : accuracy: TensorFlow accuracy function\n",
    "    \"\"\"\n",
    "    feed_dict = {x : feature_batch, y : label_batch, keep_prob:1.0}\n",
    "\n",
    "    c,a = sess.run([cost,accuracy],feed_dict=feed_dict)\n",
    "    \n",
    "    valid_feed_dict = {x : valid_features, y : valid_labels, keep_prob:1.0}\n",
    "    v = sess.run (accuracy, feed_dict=valid_feed_dict)\n",
    "\n",
    "    print ('training: cost:%.2f accuracy: %.2f validation: accuracy: %.2f'% (c,a,v))\n",
    " "
   ]
  },
  {
   "cell_type": "markdown",
   "metadata": {},
   "source": [
    "### Hyperparameters\n",
    "Tune the following parameters:\n",
    "* Set `epochs` to the number of iterations until the network stops learning or start overfitting\n",
    "* Set `batch_size` to the highest number that your machine has memory for.  Most people set them to common sizes of memory:\n",
    " * 64\n",
    " * 128\n",
    " * 256\n",
    " * ...\n",
    "* Set `keep_probability` to the probability of keeping a node using dropout"
   ]
  },
  {
   "cell_type": "code",
   "execution_count": 116,
   "metadata": {
    "collapsed": true
   },
   "outputs": [],
   "source": [
    "# TODO: Tune Parameters\n",
    "epochs = 30\n",
    "batch_size = 2048\n",
    "keep_probability = 0.5"
   ]
  },
  {
   "cell_type": "markdown",
   "metadata": {},
   "source": [
    "### Train on a Single CIFAR-10 Batch\n",
    "Instead of training the neural network on all the CIFAR-10 batches of data, let's use a single batch. This should save time while you iterate on the model to get a better accuracy.  Once the final validation accuracy is 50% or greater, run the model on all the data in the next section."
   ]
  },
  {
   "cell_type": "code",
   "execution_count": 117,
   "metadata": {
    "collapsed": false
   },
   "outputs": [
    {
     "name": "stdout",
     "output_type": "stream",
     "text": [
      "Checking the Training on a Single Batch...\n",
      "Epoch  1, CIFAR-10 Batch 1:  training: cost:2.32 accuracy: 0.12 validation: accuracy: 0.10\n",
      "Epoch  2, CIFAR-10 Batch 1:  training: cost:2.31 accuracy: 0.14 validation: accuracy: 0.13\n",
      "Epoch  3, CIFAR-10 Batch 1:  training: cost:2.28 accuracy: 0.14 validation: accuracy: 0.13\n",
      "Epoch  4, CIFAR-10 Batch 1:  training: cost:2.23 accuracy: 0.23 validation: accuracy: 0.20\n",
      "Epoch  5, CIFAR-10 Batch 1:  training: cost:2.16 accuracy: 0.27 validation: accuracy: 0.24\n",
      "Epoch  6, CIFAR-10 Batch 1:  training: cost:2.07 accuracy: 0.26 validation: accuracy: 0.25\n",
      "Epoch  7, CIFAR-10 Batch 1:  training: cost:1.99 accuracy: 0.27 validation: accuracy: 0.27\n",
      "Epoch  8, CIFAR-10 Batch 1:  training: cost:1.93 accuracy: 0.29 validation: accuracy: 0.29\n",
      "Epoch  9, CIFAR-10 Batch 1:  training: cost:1.88 accuracy: 0.30 validation: accuracy: 0.31\n",
      "Epoch 10, CIFAR-10 Batch 1:  training: cost:1.83 accuracy: 0.32 validation: accuracy: 0.33\n",
      "Epoch 11, CIFAR-10 Batch 1:  training: cost:1.79 accuracy: 0.34 validation: accuracy: 0.34\n",
      "Epoch 12, CIFAR-10 Batch 1:  training: cost:1.75 accuracy: 0.36 validation: accuracy: 0.36\n",
      "Epoch 13, CIFAR-10 Batch 1:  training: cost:1.71 accuracy: 0.36 validation: accuracy: 0.37\n",
      "Epoch 14, CIFAR-10 Batch 1:  training: cost:1.66 accuracy: 0.41 validation: accuracy: 0.38\n",
      "Epoch 15, CIFAR-10 Batch 1:  training: cost:1.66 accuracy: 0.41 validation: accuracy: 0.38\n",
      "Epoch 16, CIFAR-10 Batch 1:  training: cost:1.61 accuracy: 0.40 validation: accuracy: 0.40\n",
      "Epoch 17, CIFAR-10 Batch 1:  training: cost:1.57 accuracy: 0.44 validation: accuracy: 0.41\n",
      "Epoch 18, CIFAR-10 Batch 1:  training: cost:1.54 accuracy: 0.44 validation: accuracy: 0.42\n",
      "Epoch 19, CIFAR-10 Batch 1:  training: cost:1.53 accuracy: 0.46 validation: accuracy: 0.42\n",
      "Epoch 20, CIFAR-10 Batch 1:  training: cost:1.50 accuracy: 0.46 validation: accuracy: 0.43\n",
      "Epoch 21, CIFAR-10 Batch 1:  training: cost:1.49 accuracy: 0.47 validation: accuracy: 0.44\n",
      "Epoch 22, CIFAR-10 Batch 1:  training: cost:1.46 accuracy: 0.48 validation: accuracy: 0.44\n",
      "Epoch 23, CIFAR-10 Batch 1:  training: cost:1.44 accuracy: 0.48 validation: accuracy: 0.44\n",
      "Epoch 24, CIFAR-10 Batch 1:  training: cost:1.42 accuracy: 0.50 validation: accuracy: 0.45\n",
      "Epoch 25, CIFAR-10 Batch 1:  training: cost:1.40 accuracy: 0.51 validation: accuracy: 0.45\n",
      "Epoch 26, CIFAR-10 Batch 1:  training: cost:1.39 accuracy: 0.51 validation: accuracy: 0.46\n",
      "Epoch 27, CIFAR-10 Batch 1:  training: cost:1.38 accuracy: 0.50 validation: accuracy: 0.46\n",
      "Epoch 28, CIFAR-10 Batch 1:  training: cost:1.38 accuracy: 0.51 validation: accuracy: 0.46\n",
      "Epoch 29, CIFAR-10 Batch 1:  training: cost:1.35 accuracy: 0.51 validation: accuracy: 0.47\n",
      "Epoch 30, CIFAR-10 Batch 1:  training: cost:1.33 accuracy: 0.55 validation: accuracy: 0.47\n",
      "done\n"
     ]
    }
   ],
   "source": [
    "\"\"\"\n",
    "DON'T MODIFY ANYTHING IN THIS CELL\n",
    "\"\"\"\n",
    "print('Checking the Training on a Single Batch...')\n",
    "with tf.Session() as sess:\n",
    "    # Initializing the variables\n",
    "    sess.run(tf.global_variables_initializer())\n",
    "    \n",
    "    # Training cycle\n",
    "    for epoch in range(epochs):\n",
    "        batch_i = 1\n",
    "        for batch_features, batch_labels in helper.load_preprocess_training_batch(batch_i, batch_size):\n",
    "            train_neural_network(sess, optimizer, keep_probability, batch_features, batch_labels)\n",
    "        print('Epoch {:>2}, CIFAR-10 Batch {}:  '.format(epoch + 1, batch_i), end='')\n",
    "        print_stats(sess, batch_features, batch_labels, cost, accuracy)\n",
    "        \n",
    "print ('done')"
   ]
  },
  {
   "cell_type": "markdown",
   "metadata": {},
   "source": [
    "#### Log over the different model after changes of review:\n",
    "- initial model:<br>\n",
    "epoch: 20<br>\n",
    "conv: 3 layers, patch: 5\\*5, stride:2\\*2, maxpooling: 1\\*1, output depth: 16<br>\n",
    "dropout: keep_prob=0.50 between conv1/2<br>\n",
    "fully: 3 layers, depth: 64 => **accuracy: 0.38, 30 ep: 0.45 **<br>\n",
    "\n",
    "- variations:<br>\n",
    "-- dropout =1.0 => ** accuracy: 0.43 **<br>\n",
    "-- dropout between fully1/2, prob=0.5=> ** accuracy: 0.37 **<br>\n",
    "-- conv: 4 layers, stride 1\\*1, dropout between fully1/2, prob=0.5=> ** accuracy: 0.37 **<br>\n",
    "-- back to initial, dropout behind flatten prob=0.5=> ** accuracy: 0.37 **<br>\n",
    "-- back to initial, dropout behind flatten prob=0.5, fully: 4=> ** accuracy: 0.37 **<br>\n",
    "-- conv:4 layers, patch 3\\*3=>** accuracy: 20 Ep: 0.36 **<br>\n",
    "-- conv: 4 layers: patch 2 \\*(3\\*3), 2\\*(5\\*5)=>** accuracy: 20 Ep: 0.35 **<br>\n",
    "-- conv: 4 layers: patch 3,4,5,6=>** accuracy: 20 Ep: 0.38 **<br>\n",
    "-- conv: 4 layers: patch 3,4,5,6, dropout between flatten/fully: 0.5=>** accuracy: 20 Ep: 0.35 **<br>\n",
    "-- conv: 4 layers: patch 3,3,5,7, dropout between flatten/fully: 1.0=>** accuracy: 20 Ep: 0.38 30 EP: 0.42**<br>\n",
    "-- conv: 4 l, patch: 4\\*(3,3), strides: 2*(1,1), 2*(2,2)=>** accuracy: 20 Ep: 0.42, 30 EP: 0.46**<br>\n",
    "-- conv: 4 l, patch: 4\\*(3,3), strides: 4\\*(1,1), maxpool after 2 and 4=>** accuracy: 20 Ep: 0.41, 30 EP: 0.46** <br>\n",
    "-- as before with dropout 0.5=>** accuracy: 20 Ep: 0.44, 30 EP: 0.47**<br>\n",
    "++ conv: 4 l, patch: 3\\*(3,3),(5,5), strides: 4\\*(1,1), maxpool after 2 and 4, dropO: 0.5=>** accuracy: 20 Ep: 45/33, 30 EP: 0.49/47 <br>\n",
    "-- conv: 4 l, patch: 3\\*(3,3),(5,5), strides: 4\\*(1,1), maxpool after 2 and 4, dropO: 1.0=>** accuracy: 20 Ep: 41, 30 EP: 0.49 <br>"
   ]
  },
  {
   "cell_type": "markdown",
   "metadata": {},
   "source": [
    "#### Log over the different models:\n",
    "- Epoch: seems to be stable around 8 or 9 => keep it on 10 for the moment\n",
    "- **initial model** :<br>\n",
    "epoch: 10<br>\n",
    "conv: 3 layers, patch: 5\\*5, stride:2\\*2, maxpooling: 1\\*1, output depth: 16<br>\n",
    "dropout: keep_prob=1.0<br>\n",
    "fully: 3 layers, depth: 64 => **accuracy: 0.6/0.575 **\n",
    "- **tries - dropout between conv and fully**:<br>\n",
    "dropout 0.5=> **accuracy: 0.575 (10 Ep), 0.6 (20 Ep)** => no improvement<br>\n",
    "dropout: 0.5, conv: patch: 4\\*4, 20 Ep => **accuracy: 0.5 **=> no improvement<br>\n",
    "dropout: 1.0, conv: patch: 6\\*6 => **acc: 10 Ep: 0.57, 20 Ep: 0.8**<br>\n",
    "dropout: 0.5, conv: patch: 6\\*6 => **acc: 20 Ep: 0.6**<br>\n",
    "dropout: 0.5, conv: patch: 5\\*5, stride: 1\\*1, maxp: 2\\*2 => **acc: 20 Ep: 0.47**\n",
    "- **tries - moving dropout**:<br>\n",
    "dropout between conv1/2: 0.5, back to initial config =>**acc: 20 Ep: 0.7, 0.5 reached at Ep 5 **<br>\n",
    "dropout between conv1/2 + conv2/conv3: 0.5, back to initial config =>**acc: 20 Ep: 0.6, 0.5 reached at Ep 10 **<br>\n",
    "dropout between conv2/3: 0.5, back to initial config =>**acc: 20 Ep: 0.5, 0.5 reached at Ep 14<br>\n",
    "dropout between conv1/2 and conv3/flatten: 0.5, back to initial config =>**acc: 20 Ep: 0.5, 0.5 reached at Ep 16<br>\n",
    "dropout between conv1/2 and fully1/2: 0.5, back to initial config =>**acc: 20 Ep: 0.5, 0.5 reached at Ep 19<br>\n",
    "\n",
    "##### => initial model with dropout between conv1/v2, because it is a fast learner"
   ]
  },
  {
   "cell_type": "markdown",
   "metadata": {},
   "source": [
    "### Fully Train the Model\n",
    "Now that you got a good accuracy with a single CIFAR-10 batch, try it with all five batches."
   ]
  },
  {
   "cell_type": "code",
   "execution_count": 118,
   "metadata": {
    "collapsed": false
   },
   "outputs": [
    {
     "name": "stdout",
     "output_type": "stream",
     "text": [
      "Training...\n",
      "Epoch  1, CIFAR-10 Batch 1:  training: cost:2.30 accuracy: 0.13 validation: accuracy: 0.13\n",
      "Epoch  1, CIFAR-10 Batch 2:  training: cost:2.27 accuracy: 0.15 validation: accuracy: 0.16\n",
      "Epoch  1, CIFAR-10 Batch 3:  training: cost:2.20 accuracy: 0.16 validation: accuracy: 0.19\n",
      "Epoch  1, CIFAR-10 Batch 4:  training: cost:2.12 accuracy: 0.21 validation: accuracy: 0.21\n",
      "Epoch  1, CIFAR-10 Batch 5:  training: cost:2.04 accuracy: 0.26 validation: accuracy: 0.24\n",
      "Epoch  2, CIFAR-10 Batch 1:  training: cost:2.04 accuracy: 0.26 validation: accuracy: 0.27\n",
      "Epoch  2, CIFAR-10 Batch 2:  training: cost:1.96 accuracy: 0.29 validation: accuracy: 0.29\n",
      "Epoch  2, CIFAR-10 Batch 3:  training: cost:1.87 accuracy: 0.31 validation: accuracy: 0.29\n",
      "Epoch  2, CIFAR-10 Batch 4:  training: cost:1.85 accuracy: 0.33 validation: accuracy: 0.31\n",
      "Epoch  2, CIFAR-10 Batch 5:  training: cost:1.80 accuracy: 0.31 validation: accuracy: 0.33\n",
      "Epoch  3, CIFAR-10 Batch 1:  training: cost:1.81 accuracy: 0.36 validation: accuracy: 0.35\n",
      "Epoch  3, CIFAR-10 Batch 2:  training: cost:1.76 accuracy: 0.35 validation: accuracy: 0.35\n",
      "Epoch  3, CIFAR-10 Batch 3:  training: cost:1.66 accuracy: 0.39 validation: accuracy: 0.37\n",
      "Epoch  3, CIFAR-10 Batch 4:  training: cost:1.67 accuracy: 0.40 validation: accuracy: 0.38\n",
      "Epoch  3, CIFAR-10 Batch 5:  training: cost:1.66 accuracy: 0.38 validation: accuracy: 0.38\n",
      "Epoch  4, CIFAR-10 Batch 1:  training: cost:1.67 accuracy: 0.42 validation: accuracy: 0.40\n",
      "Epoch  4, CIFAR-10 Batch 2:  training: cost:1.61 accuracy: 0.41 validation: accuracy: 0.41\n",
      "Epoch  4, CIFAR-10 Batch 3:  training: cost:1.55 accuracy: 0.45 validation: accuracy: 0.41\n",
      "Epoch  4, CIFAR-10 Batch 4:  training: cost:1.56 accuracy: 0.44 validation: accuracy: 0.42\n",
      "Epoch  4, CIFAR-10 Batch 5:  training: cost:1.56 accuracy: 0.43 validation: accuracy: 0.43\n",
      "Epoch  5, CIFAR-10 Batch 1:  training: cost:1.57 accuracy: 0.45 validation: accuracy: 0.43\n",
      "Epoch  5, CIFAR-10 Batch 2:  training: cost:1.53 accuracy: 0.43 validation: accuracy: 0.44\n",
      "Epoch  5, CIFAR-10 Batch 3:  training: cost:1.46 accuracy: 0.47 validation: accuracy: 0.44\n",
      "Epoch  5, CIFAR-10 Batch 4:  training: cost:1.49 accuracy: 0.46 validation: accuracy: 0.44\n",
      "Epoch  5, CIFAR-10 Batch 5:  training: cost:1.51 accuracy: 0.46 validation: accuracy: 0.44\n",
      "Epoch  6, CIFAR-10 Batch 1:  training: cost:1.50 accuracy: 0.46 validation: accuracy: 0.46\n",
      "Epoch  6, CIFAR-10 Batch 2:  training: cost:1.46 accuracy: 0.47 validation: accuracy: 0.46\n",
      "Epoch  6, CIFAR-10 Batch 3:  training: cost:1.41 accuracy: 0.49 validation: accuracy: 0.46\n",
      "Epoch  6, CIFAR-10 Batch 4:  training: cost:1.44 accuracy: 0.47 validation: accuracy: 0.46\n",
      "Epoch  6, CIFAR-10 Batch 5:  training: cost:1.48 accuracy: 0.46 validation: accuracy: 0.45\n",
      "Epoch  7, CIFAR-10 Batch 1:  training: cost:1.46 accuracy: 0.49 validation: accuracy: 0.47\n",
      "Epoch  7, CIFAR-10 Batch 2:  training: cost:1.44 accuracy: 0.48 validation: accuracy: 0.47\n",
      "Epoch  7, CIFAR-10 Batch 3:  training: cost:1.44 accuracy: 0.47 validation: accuracy: 0.46\n",
      "Epoch  7, CIFAR-10 Batch 4:  training: cost:1.44 accuracy: 0.48 validation: accuracy: 0.45\n",
      "Epoch  7, CIFAR-10 Batch 5:  training: cost:1.44 accuracy: 0.48 validation: accuracy: 0.47\n",
      "Epoch  8, CIFAR-10 Batch 1:  training: cost:1.42 accuracy: 0.48 validation: accuracy: 0.48\n",
      "Epoch  8, CIFAR-10 Batch 2:  training: cost:1.43 accuracy: 0.49 validation: accuracy: 0.47\n",
      "Epoch  8, CIFAR-10 Batch 3:  training: cost:1.34 accuracy: 0.52 validation: accuracy: 0.48\n",
      "Epoch  8, CIFAR-10 Batch 4:  training: cost:1.37 accuracy: 0.51 validation: accuracy: 0.48\n",
      "Epoch  8, CIFAR-10 Batch 5:  training: cost:1.40 accuracy: 0.50 validation: accuracy: 0.48\n",
      "Epoch  9, CIFAR-10 Batch 1:  training: cost:1.39 accuracy: 0.50 validation: accuracy: 0.49\n",
      "Epoch  9, CIFAR-10 Batch 2:  training: cost:1.37 accuracy: 0.50 validation: accuracy: 0.49\n",
      "Epoch  9, CIFAR-10 Batch 3:  training: cost:1.32 accuracy: 0.53 validation: accuracy: 0.49\n",
      "Epoch  9, CIFAR-10 Batch 4:  training: cost:1.34 accuracy: 0.52 validation: accuracy: 0.49\n",
      "Epoch  9, CIFAR-10 Batch 5:  training: cost:1.37 accuracy: 0.51 validation: accuracy: 0.49\n",
      "Epoch 10, CIFAR-10 Batch 1:  training: cost:1.35 accuracy: 0.51 validation: accuracy: 0.50\n",
      "Epoch 10, CIFAR-10 Batch 2:  training: cost:1.36 accuracy: 0.51 validation: accuracy: 0.50\n",
      "Epoch 10, CIFAR-10 Batch 3:  training: cost:1.30 accuracy: 0.53 validation: accuracy: 0.50\n",
      "Epoch 10, CIFAR-10 Batch 4:  training: cost:1.31 accuracy: 0.52 validation: accuracy: 0.50\n",
      "Epoch 10, CIFAR-10 Batch 5:  training: cost:1.34 accuracy: 0.52 validation: accuracy: 0.50\n",
      "Epoch 11, CIFAR-10 Batch 1:  training: cost:1.34 accuracy: 0.52 validation: accuracy: 0.50\n",
      "Epoch 11, CIFAR-10 Batch 2:  training: cost:1.32 accuracy: 0.53 validation: accuracy: 0.51\n",
      "Epoch 11, CIFAR-10 Batch 3:  training: cost:1.27 accuracy: 0.54 validation: accuracy: 0.51\n",
      "Epoch 11, CIFAR-10 Batch 4:  training: cost:1.29 accuracy: 0.53 validation: accuracy: 0.50\n",
      "Epoch 11, CIFAR-10 Batch 5:  training: cost:1.30 accuracy: 0.55 validation: accuracy: 0.51\n",
      "Epoch 12, CIFAR-10 Batch 1:  training: cost:1.30 accuracy: 0.52 validation: accuracy: 0.51\n",
      "Epoch 12, CIFAR-10 Batch 2:  training: cost:1.30 accuracy: 0.53 validation: accuracy: 0.51\n",
      "Epoch 12, CIFAR-10 Batch 3:  training: cost:1.26 accuracy: 0.54 validation: accuracy: 0.51\n",
      "Epoch 12, CIFAR-10 Batch 4:  training: cost:1.25 accuracy: 0.54 validation: accuracy: 0.51\n",
      "Epoch 12, CIFAR-10 Batch 5:  training: cost:1.28 accuracy: 0.56 validation: accuracy: 0.51\n",
      "Epoch 13, CIFAR-10 Batch 1:  training: cost:1.28 accuracy: 0.54 validation: accuracy: 0.52\n",
      "Epoch 13, CIFAR-10 Batch 2:  training: cost:1.26 accuracy: 0.56 validation: accuracy: 0.53\n",
      "Epoch 13, CIFAR-10 Batch 3:  training: cost:1.22 accuracy: 0.56 validation: accuracy: 0.52\n",
      "Epoch 13, CIFAR-10 Batch 4:  training: cost:1.22 accuracy: 0.55 validation: accuracy: 0.52\n",
      "Epoch 13, CIFAR-10 Batch 5:  training: cost:1.26 accuracy: 0.57 validation: accuracy: 0.53\n",
      "Epoch 14, CIFAR-10 Batch 1:  training: cost:1.25 accuracy: 0.56 validation: accuracy: 0.53\n",
      "Epoch 14, CIFAR-10 Batch 2:  training: cost:1.25 accuracy: 0.55 validation: accuracy: 0.52\n",
      "Epoch 14, CIFAR-10 Batch 3:  training: cost:1.20 accuracy: 0.57 validation: accuracy: 0.53\n",
      "Epoch 14, CIFAR-10 Batch 4:  training: cost:1.19 accuracy: 0.57 validation: accuracy: 0.53\n",
      "Epoch 14, CIFAR-10 Batch 5:  training: cost:1.22 accuracy: 0.59 validation: accuracy: 0.53\n",
      "Epoch 15, CIFAR-10 Batch 1:  training: cost:1.23 accuracy: 0.56 validation: accuracy: 0.54\n",
      "Epoch 15, CIFAR-10 Batch 2:  training: cost:1.21 accuracy: 0.57 validation: accuracy: 0.54\n",
      "Epoch 15, CIFAR-10 Batch 3:  training: cost:1.17 accuracy: 0.58 validation: accuracy: 0.54\n",
      "Epoch 15, CIFAR-10 Batch 4:  training: cost:1.17 accuracy: 0.58 validation: accuracy: 0.54\n",
      "Epoch 15, CIFAR-10 Batch 5:  training: cost:1.18 accuracy: 0.60 validation: accuracy: 0.54\n",
      "Epoch 16, CIFAR-10 Batch 1:  training: cost:1.20 accuracy: 0.56 validation: accuracy: 0.55\n",
      "Epoch 16, CIFAR-10 Batch 2:  training: cost:1.18 accuracy: 0.59 validation: accuracy: 0.54\n",
      "Epoch 16, CIFAR-10 Batch 3:  training: cost:1.14 accuracy: 0.58 validation: accuracy: 0.55\n",
      "Epoch 16, CIFAR-10 Batch 4:  training: cost:1.15 accuracy: 0.59 validation: accuracy: 0.54\n",
      "Epoch 16, CIFAR-10 Batch 5:  training: cost:1.16 accuracy: 0.61 validation: accuracy: 0.55\n",
      "Epoch 17, CIFAR-10 Batch 1:  training: cost:1.19 accuracy: 0.56 validation: accuracy: 0.55\n",
      "Epoch 17, CIFAR-10 Batch 2:  training: cost:1.15 accuracy: 0.61 validation: accuracy: 0.55\n",
      "Epoch 17, CIFAR-10 Batch 3:  training: cost:1.13 accuracy: 0.59 validation: accuracy: 0.56\n",
      "Epoch 17, CIFAR-10 Batch 4:  training: cost:1.14 accuracy: 0.60 validation: accuracy: 0.55\n",
      "Epoch 17, CIFAR-10 Batch 5:  training: cost:1.14 accuracy: 0.62 validation: accuracy: 0.55\n",
      "Epoch 18, CIFAR-10 Batch 1:  training: cost:1.16 accuracy: 0.57 validation: accuracy: 0.55\n",
      "Epoch 18, CIFAR-10 Batch 2:  training: cost:1.14 accuracy: 0.61 validation: accuracy: 0.56\n",
      "Epoch 18, CIFAR-10 Batch 3:  training: cost:1.11 accuracy: 0.60 validation: accuracy: 0.56\n",
      "Epoch 18, CIFAR-10 Batch 4:  training: cost:1.10 accuracy: 0.62 validation: accuracy: 0.56\n",
      "Epoch 18, CIFAR-10 Batch 5:  training: cost:1.11 accuracy: 0.63 validation: accuracy: 0.56\n",
      "Epoch 19, CIFAR-10 Batch 1:  training: cost:1.15 accuracy: 0.58 validation: accuracy: 0.56\n",
      "Epoch 19, CIFAR-10 Batch 2:  training: cost:1.13 accuracy: 0.61 validation: accuracy: 0.56\n",
      "Epoch 19, CIFAR-10 Batch 3:  training: cost:1.10 accuracy: 0.60 validation: accuracy: 0.57\n",
      "Epoch 19, CIFAR-10 Batch 4:  training: cost:1.08 accuracy: 0.61 validation: accuracy: 0.56\n",
      "Epoch 19, CIFAR-10 Batch 5:  training: cost:1.09 accuracy: 0.64 validation: accuracy: 0.57\n",
      "Epoch 20, CIFAR-10 Batch 1:  training: cost:1.12 accuracy: 0.61 validation: accuracy: 0.57\n",
      "Epoch 20, CIFAR-10 Batch 2:  training: cost:1.10 accuracy: 0.61 validation: accuracy: 0.56\n",
      "Epoch 20, CIFAR-10 Batch 3:  training: cost:1.07 accuracy: 0.60 validation: accuracy: 0.57\n",
      "Epoch 20, CIFAR-10 Batch 4:  training: cost:1.06 accuracy: 0.63 validation: accuracy: 0.57\n",
      "Epoch 20, CIFAR-10 Batch 5:  training: cost:1.07 accuracy: 0.65 validation: accuracy: 0.58\n",
      "Epoch 21, CIFAR-10 Batch 1:  training: cost:1.10 accuracy: 0.62 validation: accuracy: 0.58\n",
      "Epoch 21, CIFAR-10 Batch 2:  training: cost:1.07 accuracy: 0.63 validation: accuracy: 0.58\n",
      "Epoch 21, CIFAR-10 Batch 3:  training: cost:1.03 accuracy: 0.62 validation: accuracy: 0.59\n",
      "Epoch 21, CIFAR-10 Batch 4:  training: cost:1.04 accuracy: 0.64 validation: accuracy: 0.58\n",
      "Epoch 21, CIFAR-10 Batch 5:  training: cost:1.06 accuracy: 0.65 validation: accuracy: 0.58\n",
      "Epoch 22, CIFAR-10 Batch 1:  training: cost:1.08 accuracy: 0.61 validation: accuracy: 0.58\n",
      "Epoch 22, CIFAR-10 Batch 2:  training: cost:1.06 accuracy: 0.63 validation: accuracy: 0.58\n",
      "Epoch 22, CIFAR-10 Batch 3:  training: cost:1.04 accuracy: 0.62 validation: accuracy: 0.58\n",
      "Epoch 22, CIFAR-10 Batch 4:  training: cost:1.03 accuracy: 0.64 validation: accuracy: 0.59\n",
      "Epoch 22, CIFAR-10 Batch 5:  training: cost:1.04 accuracy: 0.67 validation: accuracy: 0.58\n",
      "Epoch 23, CIFAR-10 Batch 1:  training: cost:1.08 accuracy: 0.61 validation: accuracy: 0.59\n",
      "Epoch 23, CIFAR-10 Batch 2:  training: cost:1.04 accuracy: 0.65 validation: accuracy: 0.58\n",
      "Epoch 23, CIFAR-10 Batch 3:  training: cost:1.00 accuracy: 0.63 validation: accuracy: 0.60\n",
      "Epoch 23, CIFAR-10 Batch 4:  training: cost:1.02 accuracy: 0.64 validation: accuracy: 0.59\n",
      "Epoch 23, CIFAR-10 Batch 5:  training: cost:1.00 accuracy: 0.67 validation: accuracy: 0.60\n",
      "Epoch 24, CIFAR-10 Batch 1:  training: cost:1.05 accuracy: 0.63 validation: accuracy: 0.59\n",
      "Epoch 24, CIFAR-10 Batch 2:  training: cost:1.03 accuracy: 0.65 validation: accuracy: 0.58\n",
      "Epoch 24, CIFAR-10 Batch 3:  training: cost:0.99 accuracy: 0.64 validation: accuracy: 0.59\n",
      "Epoch 24, CIFAR-10 Batch 4:  training: cost:0.99 accuracy: 0.66 validation: accuracy: 0.60\n",
      "Epoch 24, CIFAR-10 Batch 5:  training: cost:0.98 accuracy: 0.68 validation: accuracy: 0.60\n",
      "Epoch 25, CIFAR-10 Batch 1:  training: cost:1.04 accuracy: 0.63 validation: accuracy: 0.60\n",
      "Epoch 25, CIFAR-10 Batch 2:  training: cost:1.01 accuracy: 0.67 validation: accuracy: 0.59\n",
      "Epoch 25, CIFAR-10 Batch 3:  training: cost:0.97 accuracy: 0.65 validation: accuracy: 0.60\n",
      "Epoch 25, CIFAR-10 Batch 4:  training: cost:0.98 accuracy: 0.66 validation: accuracy: 0.60\n",
      "Epoch 25, CIFAR-10 Batch 5:  training: cost:0.97 accuracy: 0.69 validation: accuracy: 0.61\n",
      "Epoch 26, CIFAR-10 Batch 1:  training: cost:1.00 accuracy: 0.64 validation: accuracy: 0.61\n",
      "Epoch 26, CIFAR-10 Batch 2:  training: cost:0.97 accuracy: 0.69 validation: accuracy: 0.61\n",
      "Epoch 26, CIFAR-10 Batch 3:  training: cost:0.94 accuracy: 0.67 validation: accuracy: 0.61\n",
      "Epoch 26, CIFAR-10 Batch 4:  training: cost:0.96 accuracy: 0.67 validation: accuracy: 0.62\n",
      "Epoch 26, CIFAR-10 Batch 5:  training: cost:0.95 accuracy: 0.70 validation: accuracy: 0.61\n",
      "Epoch 27, CIFAR-10 Batch 1:  training: cost:1.01 accuracy: 0.64 validation: accuracy: 0.61\n",
      "Epoch 27, CIFAR-10 Batch 2:  training: cost:0.97 accuracy: 0.67 validation: accuracy: 0.60\n",
      "Epoch 27, CIFAR-10 Batch 3:  training: cost:0.93 accuracy: 0.67 validation: accuracy: 0.62\n",
      "Epoch 27, CIFAR-10 Batch 4:  training: cost:0.95 accuracy: 0.67 validation: accuracy: 0.62\n",
      "Epoch 27, CIFAR-10 Batch 5:  training: cost:0.93 accuracy: 0.71 validation: accuracy: 0.62\n",
      "Epoch 28, CIFAR-10 Batch 1:  training: cost:0.99 accuracy: 0.65 validation: accuracy: 0.61\n",
      "Epoch 28, CIFAR-10 Batch 2:  training: cost:0.95 accuracy: 0.68 validation: accuracy: 0.61\n",
      "Epoch 28, CIFAR-10 Batch 3:  training: cost:0.91 accuracy: 0.67 validation: accuracy: 0.62\n",
      "Epoch 28, CIFAR-10 Batch 4:  training: cost:0.94 accuracy: 0.67 validation: accuracy: 0.62\n",
      "Epoch 28, CIFAR-10 Batch 5:  training: cost:0.93 accuracy: 0.70 validation: accuracy: 0.62\n",
      "Epoch 29, CIFAR-10 Batch 1:  training: cost:0.98 accuracy: 0.66 validation: accuracy: 0.62\n",
      "Epoch 29, CIFAR-10 Batch 2:  training: cost:0.94 accuracy: 0.69 validation: accuracy: 0.61\n",
      "Epoch 29, CIFAR-10 Batch 3:  training: cost:0.90 accuracy: 0.68 validation: accuracy: 0.63\n",
      "Epoch 29, CIFAR-10 Batch 4:  training: cost:0.93 accuracy: 0.68 validation: accuracy: 0.63\n",
      "Epoch 29, CIFAR-10 Batch 5:  training: cost:0.91 accuracy: 0.71 validation: accuracy: 0.62\n",
      "Epoch 30, CIFAR-10 Batch 1:  training: cost:0.96 accuracy: 0.66 validation: accuracy: 0.62\n",
      "Epoch 30, CIFAR-10 Batch 2:  training: cost:0.92 accuracy: 0.70 validation: accuracy: 0.62\n",
      "Epoch 30, CIFAR-10 Batch 3:  training: cost:0.88 accuracy: 0.70 validation: accuracy: 0.63\n",
      "Epoch 30, CIFAR-10 Batch 4:  training: cost:0.93 accuracy: 0.68 validation: accuracy: 0.63\n",
      "Epoch 30, CIFAR-10 Batch 5:  training: cost:0.89 accuracy: 0.71 validation: accuracy: 0.63\n"
     ]
    }
   ],
   "source": [
    "\"\"\"\n",
    "DON'T MODIFY ANYTHING IN THIS CELL\n",
    "\"\"\"\n",
    "save_model_path = './image_classification'\n",
    "\n",
    "print('Training...')\n",
    "with tf.Session() as sess:\n",
    "    # Initializing the variables\n",
    "    sess.run(tf.global_variables_initializer())\n",
    "    \n",
    "    # Training cycle\n",
    "    for epoch in range(epochs):\n",
    "        # Loop over all batches\n",
    "        n_batches = 5\n",
    "        for batch_i in range(1, n_batches + 1):\n",
    "            for batch_features, batch_labels in helper.load_preprocess_training_batch(batch_i, batch_size):\n",
    "                train_neural_network(sess, optimizer, keep_probability, batch_features, batch_labels)\n",
    "            print('Epoch {:>2}, CIFAR-10 Batch {}:  '.format(epoch + 1, batch_i), end='')\n",
    "            print_stats(sess, batch_features, batch_labels, cost, accuracy)\n",
    "            \n",
    "    # Save Model\n",
    "    saver = tf.train.Saver()\n",
    "    save_path = saver.save(sess, save_model_path)\n",
    "    "
   ]
  },
  {
   "cell_type": "markdown",
   "metadata": {},
   "source": [
    "# Checkpoint\n",
    "The model has been saved to disk.\n",
    "## Test Model\n",
    "Test your model against the test dataset.  This will be your final accuracy. You should have an accuracy greater than 50%. If you don't, keep tweaking the model architecture and parameters."
   ]
  },
  {
   "cell_type": "code",
   "execution_count": 121,
   "metadata": {
    "collapsed": false
   },
   "outputs": [
    {
     "name": "stdout",
     "output_type": "stream",
     "text": [
      "Testing Accuracy: 0.6342315435409546\n",
      "\n"
     ]
    },
    {
     "data": {
      "image/png": "[encoded data removed]",
      "text/plain": [
       "<matplotlib.figure.Figure at 0x23ef37ef0f0>"
      ]
     },
     "metadata": {
      "image/png": {
       "height": 319,
       "width": 355
      }
     },
     "output_type": "display_data"
    }
   ],
   "source": [
    "\"\"\"\n",
    "DON'T MODIFY ANYTHING IN THIS CELL\n",
    "\"\"\"\n",
    "%matplotlib inline\n",
    "%config InlineBackend.figure_format = 'retina'\n",
    "\n",
    "import tensorflow as tf\n",
    "import pickle\n",
    "import helper\n",
    "import random\n",
    "\n",
    "# Set batch size if not already set\n",
    "try:\n",
    "    if batch_size:\n",
    "        pass\n",
    "except NameError:\n",
    "    batch_size = 64\n",
    "\n",
    "save_model_path = './image_classification'\n",
    "n_samples = 4\n",
    "top_n_predictions = 3\n",
    "\n",
    "def test_model():\n",
    "    \"\"\"\n",
    "    Test the saved model against the test dataset\n",
    "    \"\"\"\n",
    "\n",
    "    test_features, test_labels = pickle.load(open('preprocess_training.p', mode='rb'))\n",
    "    loaded_graph = tf.Graph()\n",
    "\n",
    "    with tf.Session(graph=loaded_graph) as sess:\n",
    "        # Load model\n",
    "        loader = tf.train.import_meta_graph(save_model_path + '.meta')\n",
    "        loader.restore(sess, save_model_path)\n",
    "\n",
    "        # Get Tensors from loaded model\n",
    "        loaded_x = loaded_graph.get_tensor_by_name('x:0')\n",
    "        loaded_y = loaded_graph.get_tensor_by_name('y:0')\n",
    "        loaded_keep_prob = loaded_graph.get_tensor_by_name('keep_prob:0')\n",
    "        loaded_logits = loaded_graph.get_tensor_by_name('logits:0')\n",
    "        loaded_acc = loaded_graph.get_tensor_by_name('accuracy:0')\n",
    "        \n",
    "        # Get accuracy in batches for memory limitations\n",
    "        test_batch_acc_total = 0\n",
    "        test_batch_count = 0\n",
    "        \n",
    "        for train_feature_batch, train_label_batch in helper.batch_features_labels(test_features, test_labels, batch_size):\n",
    "            test_batch_acc_total += sess.run(\n",
    "                loaded_acc,\n",
    "                feed_dict={loaded_x: train_feature_batch, loaded_y: train_label_batch, loaded_keep_prob: 1.0})\n",
    "            test_batch_count += 1\n",
    "\n",
    "        print('Testing Accuracy: {}\\n'.format(test_batch_acc_total/test_batch_count))\n",
    "\n",
    "        # Print Random Samples\n",
    "        random_test_features, random_test_labels = tuple(zip(*random.sample(list(zip(test_features, test_labels)), n_samples)))\n",
    "        random_test_predictions = sess.run(\n",
    "            tf.nn.top_k(tf.nn.softmax(loaded_logits), top_n_predictions),\n",
    "            feed_dict={loaded_x: random_test_features, loaded_y: random_test_labels, loaded_keep_prob: 1.0})\n",
    "        helper.display_image_predictions(random_test_features, random_test_labels, random_test_predictions)\n",
    "\n",
    "\n",
    "test_model()"
   ]
  },
  {
   "cell_type": "markdown",
   "metadata": {},
   "source": [
    "## Why 50-80% Accuracy?\n",
    "You might be wondering why you can't get an accuracy any higher. First things first, 50% isn't bad for a simple CNN.  Pure guessing would get you 10% accuracy. That's because there are many more techniques that can be applied to your model and we recemmond that once you are done with this project, you explore!\n",
    "\n",
    "## Submitting This Project\n",
    "When submitting this project, make sure to run all the cells before saving the notebook.  Save the notebook file as \"image_classification.ipynb\" and save it as a HTML file under \"File\" -> \"Download as\".  Include the \"helper.py\" and \"problem_unittests.py\" files in your submission."
   ]
  }
 ],
 "metadata": {
  "anaconda-cloud": {},
  "kernelspec": {
   "display_name": "Python [conda env:py35]",
   "language": "python",
   "name": "conda-env-py35-py"
  },
  "language_info": {
   "codemirror_mode": {
    "name": "ipython",
    "version": 3
   },
   "file_extension": ".py",
   "mimetype": "text/x-python",
   "name": "python",
   "nbconvert_exporter": "python",
   "pygments_lexer": "ipython3",
   "version": "3.5.2"
  }
 },
 "nbformat": 4,
 "nbformat_minor": 0
}
